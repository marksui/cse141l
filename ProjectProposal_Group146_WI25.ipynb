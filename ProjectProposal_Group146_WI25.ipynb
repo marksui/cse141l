{
 "cells": [
  {
   "cell_type": "markdown",
   "metadata": {},
   "source": [
    "# COGS 108 - Project Proposal"
   ]
  },
  {
   "cell_type": "markdown",
   "metadata": {},
   "source": [
    "# Project Proposal: Data-Driven Market State Assessment  \n"
   ]
  },
  {
   "cell_type": "markdown",
   "metadata": {},
   "source": [
    "**Identifying Market Trends and Risk Levels Using Quantitative Analysis**\n"
   ]
  },
  {
   "cell_type": "markdown",
   "metadata": {},
   "source": [
    "\n",
    "## 1. NAMES  \n",
    "- **Group Member 1:** Bohang Kang  \n",
    "- **Group Member 2:** Mukund Dittakavi  \n",
    "- **Group Member 3:** Mark Sui  \n",
    "- **Group Member 4:** Tianyu Li  \n",
    "- **Group Member 5:** Pranshu Gupta  \n",
    "---\n"
   ]
  },
  {
   "cell_type": "markdown",
   "metadata": {},
   "source": [
    "## 2. RESEARCH QUESTION  \n"
   ]
  },
  {
   "cell_type": "markdown",
   "metadata": {},
   "source": [
    "\n",
    "**How can we quantitatively classify the overall state of financial markets using historical price and volatility data?**  \n",
    "\n",
    "Specifically:  \n",
    "1. What are the key indicators that best define market trends (bullish, bearish, or neutral)?  \n",
    "2. Can we develop a simple scoring system to assess the risk level of the market?  \n",
    "3. How do historical trends in volatility relate to different market phases?  \n",
    "\n",
    "This research aims to provide a **data-driven approach** to evaluating market conditions, assisting investors and policymakers in making informed decisions.\n",
    "\n",
    "---"
   ]
  },
  {
   "cell_type": "markdown",
   "metadata": {},
   "source": [
    "## 3. BACKGROUND  \n",
    "Financial markets are constantly evolving, and identifying the overall market state is essential for investors and institutions. Traditionally, market conditions have been assessed subjectively through news sentiment, economic reports, and price charts. However, with the increasing availability of data, **quantitative approaches** have gained prominence.\n",
    "\n",
    "### Key concepts in prior research:  \n",
    "#### 1. Market Volatility as a Risk Indicator  \n",
    "- The **VIX Index (CBOE Volatility Index)** is widely used as a measure of market fear and uncertainty. Higher VIX values are historically associated with bear markets and economic downturns (**Whaley, 2000**).  \n",
    "- Research shows that **market volatility often spikes before major market corrections** (**Giot, 2005**).\n",
    "\n",
    "#### 2. Market Regimes and State Classification  \n",
    "- Financial markets tend to alternate between distinct phases: **bullish (growth), bearish (decline), and neutral (sideways trading)**.  \n",
    "- Some studies use **Hidden Markov Models (HMMs) and clustering methods** to identify these regimes (**Ang & Timmermann, 2012**).\n",
    "\n",
    "#### 3. Simple Market Trend Indicators  \n",
    "- **Moving averages (50-day and 200-day)** have historically been used to indicate trends (**Fama & French, 1988**).  \n",
    "- **Momentum-based indicators** like MACD and RSI have been used in previous works to study market movement (**Jegadeesh & Titman, 1993**).\n",
    "\n",
    "\n",
    "### References  \n",
    "1. Whaley, R. E. (2000). The Investor Fear Gauge. *Journal of Portfolio Management, 26(3), 12-17.*  \n",
    "2. Giot, P. (2005). Implied volatility indexes and daily stock market returns. *Journal of Derivatives, 12(4), 54-64.*  \n",
    "3. Ang, A., & Timmermann, A. (2012). Regime Changes and Financial Markets. *Annual Review of Financial Economics, 4, 313-337.*  \n",
    "4. Fama, E. F., & French, K. R. (1988). Permanent and Temporary Components of Stock Prices. *Journal of Political Economy, 96(2), 246-273.*  \n",
    "5. Jegadeesh, N., & Titman, S. (1993). Returns to Buying Winners and Selling Losers: Implications for Stock Market Efficiency. *Journal of Finance, 48(1), 65-91.*  \n",
    "\n",
    "---"
   ]
  },
  {
   "cell_type": "markdown",
   "metadata": {},
   "source": [
    "## 4. HYPOTHESIS  "
   ]
  },
  {
   "cell_type": "markdown",
   "metadata": {},
   "source": [
    "- **Financial markets exhibit distinguishable states** (bullish, bearish, or neutral) that can be quantified using volatility and trend indicators.  \n",
    "- **Periods of extreme volatility often precede significant market corrections** (e.g., crashes or recessions).  \n",
    "- A **market risk scoring system** based on volatility and momentum indicators can provide an **early warning for high-risk market conditions**.\n",
    "\n",
    "---"
   ]
  },
  {
   "cell_type": "markdown",
   "metadata": {},
   "source": [
    "## 5. DATA  \n"
   ]
  },
  {
   "cell_type": "markdown",
   "metadata": {},
   "source": [
    "| **Type**               | **Source**                    | **Variables**                                      |\n",
    "|------------------------|------------------------------|----------------------------------------------------|\n",
    "| **Stock & Futures Prices** | Yahoo Finance, AkShare      | Open, High, Low, Close (OHLC), Volume              |\n",
    "| **Market Volatility**  | VIX (CBOE Volatility Index)  | VIX levels, historical volatility                  |\n",
    "| **Macroeconomic Data** | FRED, IMF                    | Interest rates, GDP growth, inflation              |\n",
    "| **Market Indicators**  | Technical Indicators         | Moving Averages, RSI, MACD                         |\n"
   ]
  },
  {
   "cell_type": "markdown",
   "metadata": {},
   "source": [
    "---\n"
   ]
  },
  {
   "cell_type": "markdown",
   "metadata": {},
   "source": [
    "## 6. ETHICS & PRIVACY CONSIDERATIONS  \n"
   ]
  },
  {
   "cell_type": "markdown",
   "metadata": {},
   "source": [
    "### 1. Bias & Fairness  \n",
    "- **Data is sourced from publicly available financial datasets**, eliminating privacy concerns.  \n",
    "- However, our dataset **may be biased toward developed markets** (e.g., S&P 500, Nasdaq) and exclude emerging market trends.\n",
    "\n",
    "### 2. Terms of Use & Transparency  \n",
    "- Ensure **compliance** with API usage limits and data provider policies.  \n",
    "- Clearly **document data sources and methodology** in our final report.\n",
    "\n",
    "### 3. Potential Limitations & Mitigation Strategies  \n",
    "- **Historical data may not fully represent future market behavior.**  \n",
    "  - We will acknowledge this limitation and avoid overfitting models.  \n",
    "- **Outlier events (e.g., COVID-19 crash) could distort results.**  \n",
    "  - We will conduct robustness checks to mitigate this issue.\n",
    "\n",
    "---\n"
   ]
  },
  {
   "cell_type": "markdown",
   "metadata": {},
   "source": [
    "## 7. DATA ANALYSIS APPROACH  \n"
   ]
  },
  {
   "cell_type": "markdown",
   "metadata": {},
   "source": [
    "- **Collaboration & Communication:** Weekly check-ins to track progress.  \n",
    "- **Workload Distribution:** Each member contributes to both analysis and documentation.  \n",
    "- **Conflict Resolution:** Any disagreements will be resolved through discussion and consensus.  \n",
    "- **Responsibility:** Members are expected to complete assigned tasks on time.  \n",
    "---"
   ]
  },
  {
   "cell_type": "markdown",
   "metadata": {},
   "source": [
    "## 8. PROJECT TIMELINE PROPOSAL  \n",
    "\n",
    "| **Date**  | **Task**                                 | **Responsible Member(s)**  |\n",
    "|----------|--------------------------------------|---------------------------|\n",
    "| Week 1  | Data collection and cleaning        | Tianyu, Pranshu, Mark     |\n",
    "| Week 2-3  | Exploratory Data Analysis (EDA)   | Mukund, Tianyu, Pranshu   |\n",
    "| Week 4  | Market state classification (bull/bear/neutral) | Velane, Mark, Pranshu  |\n",
    "| Week 5  | Market risk scoring system          | Mukund, Mark, Velane     |\n",
    "| Week 6  | Model validation & visualization    | Velane, Mukund, Tianyu, Mark |\n",
    "| Week 7  | Final report writing & submission   | All Members              |\n"
   ]
  },
  {
   "cell_type": "markdown",
   "metadata": {},
   "source": [
    "\n",
    "---\n",
    "\n",
    "## 9. EXPECTED DELIVERABLES  \n",
    "- **Dataset** with structured market data.  \n",
    "- **Market classification model** (simple rule-based + clustering).  \n",
    "- **Market risk scoring system** to quantify risk levels.  \n",
    "- **Final report & presentation** summarizing key insights.  "
   ]
  },
  {
   "cell_type": "markdown",
   "metadata": {},
   "source": []
  }
 ],
 "metadata": {
  "kernelspec": {
   "display_name": "Python 3 (ipykernel)",
   "language": "python",
   "name": "python3"
  },
  "language_info": {
   "codemirror_mode": {
    "name": "ipython",
    "version": 3
   },
   "file_extension": ".py",
   "mimetype": "text/x-python",
   "name": "python",
   "nbconvert_exporter": "python",
   "pygments_lexer": "ipython3",
   "version": "3.9.7"
  }
 },
 "nbformat": 4,
 "nbformat_minor": 2
}
